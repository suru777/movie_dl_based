{
  "nbformat": 4,
  "nbformat_minor": 0,
  "metadata": {
    "colab": {
      "provenance": []
    },
    "kernelspec": {
      "name": "python3",
      "display_name": "Python 3"
    },
    "language_info": {
      "name": "python"
    }
  },
  "cells": [
    {
      "cell_type": "code",
      "source": [
        "\n",
        "import re\n",
        "import nltk\n",
        "import numpy as np\n",
        "import tensorflow as tf\n",
        "from tensorflow.keras.preprocessing.text import Tokenizer\n",
        "from tensorflow.keras.preprocessing.sequence import pad_sequences\n",
        "import pickle\n",
        "from nltk.corpus import stopwords\n",
        "from nltk.tokenize import word_tokenize\n",
        "\n",
        "# Download required NLTK data\n",
        "nltk.download('stopwords')\n",
        "nltk.download('punkt')\n",
        "nltk.download('punkt_tab')\n",
        "\n",
        "# Define the label mapping\n",
        "label_mapping = {\n",
        "    0: \"sadness\",\n",
        "    1: \"joy\",\n",
        "    2: \"love\",\n",
        "    3: \"anger\",\n",
        "    4: \"fear\",\n",
        "    5: \"surprise\"\n",
        "}\n",
        "\n",
        "# Text normalization function\n",
        "def normalize(text):\n",
        "    # Remove newline characters\n",
        "    text = text.replace(\"\\n\", \" \").replace(\"\\r\", \" \")\n",
        "    # Remove punctuation and non-word characters (except whitespace)\n",
        "    text = re.sub(r'[^\\w\\s]', '', text)\n",
        "    # Remove extra spaces\n",
        "    text = re.sub(r'\\s+', ' ', text)\n",
        "    # Remove URLs\n",
        "    text = re.sub(r'http\\S+', '', text)\n",
        "    # Trim leading and trailing whitespace\n",
        "    text = text.strip()\n",
        "    # Remove non-alphabetic characters (optional)\n",
        "    text = re.sub(r'[^a-zA-Z\\s]', '', text)\n",
        "    # Convert text to lowercase\n",
        "    text = text.lower()\n",
        "    # Remove stopwords\n",
        "    stop_words = set(stopwords.words('english'))\n",
        "    word_tokens = word_tokenize(text)\n",
        "    text = ' '.join(word for word in word_tokens if word not in stop_words)\n",
        "    return text\n",
        "\n",
        "# Load the saved model\n",
        "model = tf.keras.models.load_model('/content/sa_text (1).h5')\n",
        "\n",
        "# Load the saved tokenizer\n",
        "with open('/content/tokenizer.pickle', 'rb') as handle:\n",
        "    tokenizer = pickle.load(handle)\n",
        "\n",
        "# Load the saved max_length\n",
        "with open('/content/max_length.pickle', 'rb') as handle:\n",
        "    max_length = pickle.load(handle)\n",
        "\n",
        "# Prompt the user for a raw input text\n",
        "user_input = input(\"Enter a text to classify its emotion: \")\n",
        "\n",
        "# Preprocess the input text using the normalization function\n",
        "normalized_input = normalize(user_input)\n",
        "\n",
        "# Convert the normalized text to a sequence using the trained tokenizer\n",
        "input_sequence = tokenizer.texts_to_sequences([normalized_input])\n",
        "\n",
        "# Pad the sequence to match the maximum sequence length used during training\n",
        "input_padded = pad_sequences(input_sequence, maxlen=max_length)\n",
        "\n",
        "# Use the model to predict the emotion\n",
        "prediction = model.predict(input_padded)\n",
        "\n",
        "# Get the predicted numeric label (the index of the highest probability)\n",
        "predicted_numeric_label = np.argmax(prediction, axis=1)[0]\n",
        "\n",
        "# Map the numeric label to the corresponding emotion name\n",
        "predicted_emotion = label_mapping[predicted_numeric_label]\n",
        "print(\"Predicted Emotion:\", predicted_numeric_label)\n",
        "print(\"Predicted Emotion:\", predicted_emotion)"
      ],
      "metadata": {
        "colab": {
          "base_uri": "https://localhost:8080/"
        },
        "id": "Q614d1UTkvvs",
        "outputId": "ecec03d9-089e-412e-c1b5-b7c26fbb2014"
      },
      "execution_count": null,
      "outputs": [
        {
          "output_type": "stream",
          "name": "stderr",
          "text": [
            "[nltk_data] Downloading package stopwords to /root/nltk_data...\n",
            "[nltk_data]   Package stopwords is already up-to-date!\n",
            "[nltk_data] Downloading package punkt to /root/nltk_data...\n",
            "[nltk_data]   Package punkt is already up-to-date!\n",
            "[nltk_data] Downloading package punkt_tab to /root/nltk_data...\n",
            "[nltk_data]   Package punkt_tab is already up-to-date!\n",
            "WARNING:absl:Compiled the loaded model, but the compiled metrics have yet to be built. `model.compile_metrics` will be empty until you train or evaluate the model.\n"
          ]
        },
        {
          "output_type": "stream",
          "name": "stdout",
          "text": [
            "Enter a text to classify its emotion: feeling sad\n",
            "\u001b[1m1/1\u001b[0m \u001b[32m━━━━━━━━━━━━━━━━━━━━\u001b[0m\u001b[37m\u001b[0m \u001b[1m1s\u001b[0m 921ms/step\n",
            "Predicted Emotion: 0\n",
            "Predicted Emotion: sadness\n"
          ]
        }
      ]
    },
    {
      "cell_type": "code",
      "source": [
        "\n",
        "# Define the mood mapping\n",
        "mood_mapping = {\n",
        "    \"joy\": 0,    # Happy\n",
        "    \"love\": 0,   # Happy\n",
        "    \"sadness\": 1, # Sad\n",
        "    \"fear\": 1,   # Sad\n",
        "    \"anger\": 1,  # Sad\n",
        "    \"surprise\": 2 # Neutral\n",
        "}\n",
        "\n",
        "# Function to convert predicted_numeric_label to mood\n",
        "def convert_to_mood(predicted_numeric_label):\n",
        "    # Get the emotion from label_mapping\n",
        "    emotion = label_mapping.get(predicted_numeric_label)\n",
        "    # Map the emotion to mood\n",
        "    mood = mood_mapping.get(emotion, 2)  # Default to 2 (neutral) if not found\n",
        "    return mood\n",
        "\n",
        "# Example usage\n",
        "# predicted_numeric_label = 1  # Example: joy\n",
        "mood = convert_to_mood(predicted_numeric_label)\n",
        "print(f\"Predicted numeric label: {predicted_numeric_label}\")\n",
        "print(f\"Emotion: {label_mapping[predicted_numeric_label]}\")\n",
        "print(f\"Mood: {mood}\")  # Output: 0 (Happy)\n",
        "\n",
        "\n"
      ],
      "metadata": {
        "colab": {
          "base_uri": "https://localhost:8080/"
        },
        "id": "apgba4erjIrz",
        "outputId": "2405fa3f-a2b3-4c89-da81-9eabef9b358f"
      },
      "execution_count": null,
      "outputs": [
        {
          "output_type": "stream",
          "name": "stdout",
          "text": [
            "Predicted numeric label: 3\n",
            "Emotion: anger\n",
            "Mood: 1\n"
          ]
        }
      ]
    },
    {
      "cell_type": "code",
      "source": [
        "import pickle\n",
        "import pandas as pd\n",
        "import numpy as np\n",
        "with open('/content/dataset.pkl', 'rb') as f:\n",
        "    df_filtered1 = pickle.load(f)\n",
        "def recommend_movies(cluster_value):\n",
        "    print('What do you want to see: Movie or TV series?')\n",
        "    x=input()\n",
        "    filtered_movies = df_filtered1[df_filtered1['cluster'] == cluster_value]\n",
        "    if(x=='Movie'):\n",
        "        top_movies = filtered_movies[filtered_movies['contentType']=='Movie'].head(10)\n",
        "    else:\n",
        "        top_movies = filtered_movies[filtered_movies['contentType']=='TV series'].head(10)\n",
        "\n",
        "    top_movies = filtered_movies.head(10)  # Get the first 10 movies by index\n",
        "    return top_movies[['dataId', 'title']]\n",
        "\n",
        "\n",
        "print(\"it seems you are feeling\", predicted_emotion)\n",
        "print(f\"Emotion: {label_mapping[predicted_numeric_label]}\")\n",
        "print(f\"Mood: {mood}\")  # Output: 0 (Happy)\n",
        "\n",
        "# Example usage:0 - Happy,joy,love ; 1- Sad,fear,anger ; 2- neutral,disguist,surprise\n",
        "recommended_movies = recommend_movies(mood)\n",
        "\n",
        "results = recommended_movies\n",
        "print(results)\n"
      ],
      "metadata": {
        "colab": {
          "base_uri": "https://localhost:8080/"
        },
        "id": "UN4L3H2ghXRK",
        "outputId": "296c8ea7-0078-45a4-cdc7-7168a11b4b0f"
      },
      "execution_count": null,
      "outputs": [
        {
          "output_type": "stream",
          "name": "stdout",
          "text": [
            "it seems you are feeling sadness\n",
            "Emotion: sadness\n",
            "Mood: 1\n",
            "What do you want to see: Movie or TV series?\n",
            "movie\n",
            "     dataId                        title\n",
            "7    100007                        #Home\n",
            "14   100014            C/o Kancharapalem\n",
            "36   100036         Nuvvu Naaku Nachchav\n",
            "134  100134    A Northern Story of Valor\n",
            "125  100125            Thoovanathumbikal\n",
            "29   100029                   Thalapathi\n",
            "22   100022                   Drishyam 2\n",
            "37   100037           Jaane Bhi Do Yaaro\n",
            "46   100046                Chupke Chupke\n",
            "51   100051  Agent Sai Srinivasa Athreya\n"
          ]
        }
      ]
    },
    {
      "cell_type": "code",
      "source": [
        "!pip install imdbpy"
      ],
      "metadata": {
        "colab": {
          "base_uri": "https://localhost:8080/"
        },
        "id": "who4Hy9qpTjU",
        "outputId": "241172fe-8378-4b66-c3ed-b8c17ebd1483"
      },
      "execution_count": null,
      "outputs": [
        {
          "output_type": "stream",
          "name": "stdout",
          "text": [
            "Collecting imdbpy\n",
            "  Downloading IMDbPY-2022.7.9-py3-none-any.whl.metadata (498 bytes)\n",
            "Collecting cinemagoer (from imdbpy)\n",
            "  Downloading cinemagoer-2023.5.1-py3-none-any.whl.metadata (2.9 kB)\n",
            "Requirement already satisfied: SQLAlchemy in /usr/local/lib/python3.11/dist-packages (from cinemagoer->imdbpy) (2.0.40)\n",
            "Requirement already satisfied: lxml in /usr/local/lib/python3.11/dist-packages (from cinemagoer->imdbpy) (5.3.1)\n",
            "Requirement already satisfied: greenlet>=1 in /usr/local/lib/python3.11/dist-packages (from SQLAlchemy->cinemagoer->imdbpy) (3.1.1)\n",
            "Requirement already satisfied: typing-extensions>=4.6.0 in /usr/local/lib/python3.11/dist-packages (from SQLAlchemy->cinemagoer->imdbpy) (4.13.1)\n",
            "Downloading IMDbPY-2022.7.9-py3-none-any.whl (1.2 kB)\n",
            "Downloading cinemagoer-2023.5.1-py3-none-any.whl (297 kB)\n",
            "\u001b[2K   \u001b[90m━━━━━━━━━━━━━━━━━━━━━━━━━━━━━━━━━━━━━━━━\u001b[0m \u001b[32m297.2/297.2 kB\u001b[0m \u001b[31m4.6 MB/s\u001b[0m eta \u001b[36m0:00:00\u001b[0m\n",
            "\u001b[?25hInstalling collected packages: cinemagoer, imdbpy\n",
            "Successfully installed cinemagoer-2023.5.1 imdbpy-2022.7.9\n"
          ]
        }
      ]
    },
    {
      "cell_type": "code",
      "source": [
        "import pandas as pd\n",
        "import requests\n",
        "from bs4 import BeautifulSoup\n",
        "from IPython.display import Image, display\n",
        "from imdb import IMDb\n",
        "\n",
        "def get_movie_info(title):\n",
        "    try:\n",
        "        # Initialize IMDbPy\n",
        "        ia = IMDb()\n",
        "\n",
        "        # Search for the movie\n",
        "        movies = ia.search_movie(title)\n",
        "        if not movies:\n",
        "            print(f\"No movie found for {title}\")\n",
        "            return None\n",
        "\n",
        "        # Get the first movie result\n",
        "        movie = movies[0]\n",
        "        ia.update(movie)  # Fetch detailed info\n",
        "\n",
        "        # Search for movie poster via Google Images\n",
        "        query = title + ' poster'\n",
        "        url = 'https://www.google.com/search?q=' + query + '&tbm=isch'\n",
        "        headers = {'User-Agent': 'Mozilla/5.0'}\n",
        "        content = requests.get(url, headers=headers).content\n",
        "        soup = BeautifulSoup(content, 'html.parser')\n",
        "        images = soup.find_all('img')\n",
        "\n",
        "        # Display the poster (skip the first image if it's a logo)\n",
        "        if len(images) > 1:\n",
        "            display(Image(url=images[1].get('src')))\n",
        "        else:\n",
        "            print(f\"Could not find poster for {title}\")\n",
        "\n",
        "        # Extract movie information\n",
        "        print('Description:', movie.get('plot outline', 'N/A'))\n",
        "        print('Release Year:', movie.get('year', 'N/A'))\n",
        "        print('Rating:', movie.get('rating', 'N/A'))\n",
        "        print('IMDb Link:', f\"https://www.imdb.com/title/tt{movie.movieID}/\")\n",
        "        print('-' * 50)\n",
        "\n",
        "        return {\n",
        "            'title': title,\n",
        "            'poster': images[1].get('src') if len(images) > 1 else None,\n",
        "            'description': movie.get('plot outline', 'N/A'),\n",
        "            'year': movie.get('year', 'N/A'),\n",
        "            'rating': movie.get('rating', 'N/A'),\n",
        "            'imdb_link': f\"https://www.imdb.com/title/tt{movie.movieID}/\"\n",
        "        }\n",
        "\n",
        "    except Exception as e:\n",
        "        print(f\"Error fetching info for {title}: {e}\")\n",
        "        return None\n",
        "\n",
        "# Assuming 'results' is your DataFrame\n",
        "results1 = results.reset_index(drop=True)\n",
        "movie_data = []\n",
        "\n",
        "# Loop through the first 9 titles\n",
        "for i in range(min(9, len(results1))):\n",
        "    print(\"Title:\", results1['title'][i])\n",
        "    info = get_movie_info(results1['title'][i])\n",
        "    if info:\n",
        "        movie_data.append(info)\n",
        "\n",
        "# Convert to DataFrame for easy handling\n",
        "movie_df = pd.DataFrame(movie_data)\n",
        "print(movie_df)"
      ],
      "metadata": {
        "colab": {
          "base_uri": "https://localhost:8080/",
          "height": 1000
        },
        "id": "sLMEy_nspRgB",
        "outputId": "be1b31af-5179-445f-9d2b-f9c0ea1299d4"
      },
      "execution_count": null,
      "outputs": [
        {
          "output_type": "stream",
          "name": "stdout",
          "text": [
            "Title: #Home\n",
            "Could not find poster for #Home\n",
            "Description: Light television comedy about family man Tim \"The Tool Man\" Taylor. The show's humor often revolved around cars, toys, tools, hardware shops, garages, fix-it-up projects, and similar themes.\n",
            "Release Year: 1991\n",
            "Rating: 7.2\n",
            "IMDb Link: https://www.imdb.com/title/tt0101120/\n",
            "--------------------------------------------------\n",
            "Title: C/o Kancharapalem\n"
          ]
        },
        {
          "output_type": "display_data",
          "data": {
            "text/html": [
              "<img src=\"https://encrypted-tbn0.gstatic.com/images?q=tbn:ANd9GcQDmWgLka3uoft1-eXnvxF_IV5YlMG7kq7wLrgjF79hWrnC7Kk9dRRWkG6zflM&s\"/>"
            ],
            "text/plain": [
              "<IPython.core.display.Image object>"
            ]
          },
          "metadata": {}
        },
        {
          "output_type": "stream",
          "name": "stdout",
          "text": [
            "Description: N/A\n",
            "Release Year: 2018\n",
            "Rating: 8.8\n",
            "IMDb Link: https://www.imdb.com/title/tt7391996/\n",
            "--------------------------------------------------\n",
            "Title: Nuvvu Naaku Nachchav\n"
          ]
        },
        {
          "output_type": "display_data",
          "data": {
            "text/html": [
              "<img src=\"https://encrypted-tbn0.gstatic.com/images?q=tbn:ANd9GcSFxBTxcoi82ZlNCkA-zpPSV6q4PU0JTAO5dDsLvnER2CRZ-CRYswFX5jYOmHk&s\"/>"
            ],
            "text/plain": [
              "<IPython.core.display.Image object>"
            ]
          },
          "metadata": {}
        },
        {
          "output_type": "stream",
          "name": "stdout",
          "text": [
            "Description: Venakteswarlu alias Venky (Venkatesh) comes to the house of Murthy (Prakash Raj) on recommendation of his father Sekhar (Chandra Mohan) who is a childhood friend of Murthy. Nandini alias Nandu (Arti Agarwal) is the daughter of Murthy. Venky enters that place when Nandu is about to get engaged to a software professional from the USA. Soon, Venky bonds with everyone from Murthy's family. Murthy helps Venky secure a job. The relationship between Venky and Nandu starts with hatred and turns into friendship. Nandu confesses her love for Venky to him. Venky, who does not want to spoil the relationship between their parents, decides to leave the house. But Murthy goes to the railway station and talks to Venky, which causes Venky to return. On his return, Nandu stops speaking to him. When Venky accompanies Nandu and Pinky (Nandu's cousin) to Nandu's friend Asha's wedding, sparks fly between them.Even though Venky also is in love with Nandu, he does not express it and pretends to not have feelings for Nandu. When they get back, its time for Nandu's wedding! Venky takes the onus of running the show of marriage. The demure Nandu is shattered.Circumstances lead to everyone finding out about Venky and Nandu. What follows, and how Nandu and Venky end up together forms the climax of the story.\n",
            "Release Year: 2001\n",
            "Rating: 8.8\n",
            "IMDb Link: https://www.imdb.com/title/tt0311594/\n",
            "--------------------------------------------------\n",
            "Title: A Northern Story of Valor\n"
          ]
        },
        {
          "output_type": "display_data",
          "data": {
            "text/html": [
              "<img src=\"https://encrypted-tbn0.gstatic.com/images?q=tbn:ANd9GcT44V-mshpA8l0xdfteFimTiHcCnMD5CN7exCRxyzFCSwc_HfGT2RqQ3taqEg&s\"/>"
            ],
            "text/plain": [
              "<IPython.core.display.Image object>"
            ]
          },
          "metadata": {}
        },
        {
          "output_type": "stream",
          "name": "stdout",
          "text": [
            "Description: The film is set in 16th-century Northern Kerala. The plot unfolds at Puthooram, the house of great Kannappan Chekavar (Balan K. Nair). Kannappan Chekavar adopts the son of his estranged sister when the boy loses both his parents and brings him to Puthooram to live and learn with his cousins. The orphan boy, Chandu, a quick learner, earns the love and admiration of his uncle, while he is loathed by his cousin Aromal Chekavar (Suresh Gopi). As they grow up Chandu (Mammootty) is betrothed to Chekavar's daughter, Unniyarcha (Madhavi). Several events unfold where in Chandu finds himself being pushed to the corner by his cousin. He flees to the Kali under the guidance of Tulunadan expert and master Chekavar, Aringodar (Captain Raju).\n",
            "Release Year: 1989\n",
            "Rating: 8.7\n",
            "IMDb Link: https://www.imdb.com/title/tt0230597/\n",
            "--------------------------------------------------\n",
            "Title: Thoovanathumbikal\n"
          ]
        },
        {
          "output_type": "display_data",
          "data": {
            "text/html": [
              "<img src=\"https://encrypted-tbn0.gstatic.com/images?q=tbn:ANd9GcSFxFyBnuMk-8xXAOMnBb8-Pbn-MJZdYY2eLGyN-ktF-JHdJZWXDQZEf2Hjzg&s\"/>"
            ],
            "text/plain": [
              "<IPython.core.display.Image object>"
            ]
          },
          "metadata": {}
        },
        {
          "output_type": "stream",
          "name": "stdout",
          "text": [
            "Description: Jayakrishnan(Mohanlal), a bachelor guy, is leading a dual life - one in the town and the other with his mother and sister in the village. The story revolves around Thrissur, a place in Kerala. In the town he's a party man spending time with his friends but at home, he's a good family man. The story is about how he falls in love with two girls - Radha(Parvathy), one of his distant relatives in village and Clara(Sumalatha) a sex worker in town and then gets confused with the choice of whom he should spend his life with.\n",
            "Release Year: 1987\n",
            "Rating: 8.6\n",
            "IMDb Link: https://www.imdb.com/title/tt0249188/\n",
            "--------------------------------------------------\n",
            "Title: Thalapathi\n"
          ]
        },
        {
          "output_type": "display_data",
          "data": {
            "text/html": [
              "<img src=\"https://encrypted-tbn0.gstatic.com/images?q=tbn:ANd9GcQQq19MUfhDdJEHL_nh0NtA-uDhi2bBi2-CbrRHjgrAlg3Ogof1N8PGSbtFDbo&s\"/>"
            ],
            "text/plain": [
              "<IPython.core.display.Image object>"
            ]
          },
          "metadata": {}
        },
        {
          "output_type": "stream",
          "name": "stdout",
          "text": [
            "Description: Surya (Rajnikanth) is an orphan raised in a slum. He finds a friend in the local Godfather (Mamooty). They rule the town and forms a parallel government. Things are well until new district collect(Aravind Swami), step -brother of Surya takes charge. Surya finds his mom (Sreevidya) and decides to surrender.\n",
            "Release Year: 1991\n",
            "Rating: 8.5\n",
            "IMDb Link: https://www.imdb.com/title/tt0101649/\n",
            "--------------------------------------------------\n",
            "Title: Drishyam 2\n"
          ]
        },
        {
          "output_type": "display_data",
          "data": {
            "text/html": [
              "<img src=\"https://encrypted-tbn0.gstatic.com/images?q=tbn:ANd9GcRWbtL3X9wv9Z1LQSsgSWDAruKuP9WRTndsMfcDwa5ApLHGZP0K-Ga7wnj58_U&s\"/>"
            ],
            "text/plain": [
              "<IPython.core.display.Image object>"
            ]
          },
          "metadata": {}
        },
        {
          "output_type": "stream",
          "name": "stdout",
          "text": [
            "Description: A drug deal goes wrong between two peddlers where one named David accidentally shoots other while trying to escape he notices Vijay Salgaonkar coming out of under construction police station after hiding something.Seven years later Vijay lives happily with his family, along with his cable business he also owns a cinema hall and plans to produce his own film.Mahesh Deshmukh comes to meet Vijay asking him for final remains of his son but goes distressed on the other hand IG Meera Deshmukh has still not forgiven Vijay and waits for evidence.IG Tarun Alhawat colleague of Meera is posted sometime back in Goa and tries to re investigate Sam's case by getting suspended officer Gaitonde back on duty.Tarun and Meera lay a trap on Vijay and his family but very much far away from getting any clue.\n",
            "Release Year: 2022\n",
            "Rating: 8.2\n",
            "IMDb Link: https://www.imdb.com/title/tt15501640/\n",
            "--------------------------------------------------\n",
            "Title: Jaane Bhi Do Yaaro\n"
          ]
        },
        {
          "output_type": "display_data",
          "data": {
            "text/html": [
              "<img src=\"https://encrypted-tbn0.gstatic.com/images?q=tbn:ANd9GcQ7PYT4GROZQnl27IaT-XEF8S5WLyK7520WYdporGQBsApol-n5EZx_BtZeHUw&s\"/>"
            ],
            "text/plain": [
              "<IPython.core.display.Image object>"
            ]
          },
          "metadata": {}
        },
        {
          "output_type": "stream",
          "name": "stdout",
          "text": [
            "Description: Vinod (Naseeruddin Shah) and Sudhir (Ravi Baswani) are two professional photographers trying to start a photo studio. The first real assignment that they get, from the activist magazine Khabardar (literally meaning beware), draws them into the shady world of Bombay real estate. They discover that one of the biggest builders in Bombay, Tarneja, is trying to bribe Municipal Commissioner D'Mello (Satish Shah) into giving him a bridge contract. Meanwhile D'Mello is negotiating with Tarneja's arch rival Ahuja (Om Puri). The contract is finally awarded to a third person. By chance Vinod and Sudhir find out that Tarneja has murdered D'Mello...\n",
            "Release Year: 1983\n",
            "Rating: 8.3\n",
            "IMDb Link: https://www.imdb.com/title/tt0085743/\n",
            "--------------------------------------------------\n",
            "Title: Chupke Chupke\n"
          ]
        },
        {
          "output_type": "display_data",
          "data": {
            "text/html": [
              "<img src=\"https://encrypted-tbn0.gstatic.com/images?q=tbn:ANd9GcR3iZQzRJSem7AqAU5UQwm25wHODroq-rHt0AmVCqWRhpqOhcFjuy47ZMe4lPA&s\"/>"
            ],
            "text/plain": [
              "<IPython.core.display.Image object>"
            ]
          },
          "metadata": {}
        },
        {
          "output_type": "stream",
          "name": "stdout",
          "text": [
            "Description: N/A\n",
            "Release Year: 2021\n",
            "Rating: 8.6\n",
            "IMDb Link: https://www.imdb.com/title/tt15374748/\n",
            "--------------------------------------------------\n",
            "                       title  \\\n",
            "0                      #Home   \n",
            "1          C/o Kancharapalem   \n",
            "2       Nuvvu Naaku Nachchav   \n",
            "3  A Northern Story of Valor   \n",
            "4          Thoovanathumbikal   \n",
            "5                 Thalapathi   \n",
            "6                 Drishyam 2   \n",
            "7         Jaane Bhi Do Yaaro   \n",
            "8              Chupke Chupke   \n",
            "\n",
            "                                              poster  \\\n",
            "0                                               None   \n",
            "1  https://encrypted-tbn0.gstatic.com/images?q=tb...   \n",
            "2  https://encrypted-tbn0.gstatic.com/images?q=tb...   \n",
            "3  https://encrypted-tbn0.gstatic.com/images?q=tb...   \n",
            "4  https://encrypted-tbn0.gstatic.com/images?q=tb...   \n",
            "5  https://encrypted-tbn0.gstatic.com/images?q=tb...   \n",
            "6  https://encrypted-tbn0.gstatic.com/images?q=tb...   \n",
            "7  https://encrypted-tbn0.gstatic.com/images?q=tb...   \n",
            "8  https://encrypted-tbn0.gstatic.com/images?q=tb...   \n",
            "\n",
            "                                         description  year  rating  \\\n",
            "0  Light television comedy about family man Tim \"...  1991     7.2   \n",
            "1                                                N/A  2018     8.8   \n",
            "2  Venakteswarlu alias Venky (Venkatesh) comes to...  2001     8.8   \n",
            "3  The film is set in 16th-century Northern Keral...  1989     8.7   \n",
            "4  Jayakrishnan(Mohanlal), a bachelor guy, is lea...  1987     8.6   \n",
            "5  Surya (Rajnikanth) is an orphan raised in a sl...  1991     8.5   \n",
            "6  A drug deal goes wrong between two peddlers wh...  2022     8.2   \n",
            "7  Vinod (Naseeruddin Shah) and Sudhir (Ravi Basw...  1983     8.3   \n",
            "8                                                N/A  2021     8.6   \n",
            "\n",
            "                                imdb_link  \n",
            "0   https://www.imdb.com/title/tt0101120/  \n",
            "1   https://www.imdb.com/title/tt7391996/  \n",
            "2   https://www.imdb.com/title/tt0311594/  \n",
            "3   https://www.imdb.com/title/tt0230597/  \n",
            "4   https://www.imdb.com/title/tt0249188/  \n",
            "5   https://www.imdb.com/title/tt0101649/  \n",
            "6  https://www.imdb.com/title/tt15501640/  \n",
            "7   https://www.imdb.com/title/tt0085743/  \n",
            "8  https://www.imdb.com/title/tt15374748/  \n"
          ]
        }
      ]
    }
  ]
}